{
 "cells": [
  {
   "cell_type": "code",
   "execution_count": 2,
   "id": "7d25226e-9ca0-449a-b79e-f251e07156f6",
   "metadata": {},
   "outputs": [],
   "source": [
    "import os\n",
    "from sor.machine_learning import *"
   ]
  },
  {
   "cell_type": "code",
   "execution_count": 3,
   "id": "98ca75c9-edf9-49b8-9581-24022151e9fd",
   "metadata": {},
   "outputs": [],
   "source": [
    "sor_data=pd.read_csv('C:\\\\Users\\\\surgi\\\\source\\\\repos\\\\Speech_Omics_data.txt',sep='\\t',index_col=0)\n",
    "allf=sor_data.columns.to_list()"
   ]
  },
  {
   "cell_type": "code",
   "execution_count": 4,
   "id": "1d25405e-a6b8-4d40-ab45-42c2742047ff",
   "metadata": {},
   "outputs": [],
   "source": [
    "sor_cca=pd.read_csv('C:\\\\Users\\\\surgi\\\\source\\\\repos\\\\Speech_Omics_Modularity.txt',sep='\\t',index_col=0)"
   ]
  },
  {
   "cell_type": "code",
   "execution_count": 5,
   "id": "bd6e7f70-a1a4-47e7-991d-9ef54f43cdef",
   "metadata": {},
   "outputs": [],
   "source": [
    "task=pd.ExcelFile('C:\\\\Users\\\\surgi\\\\source\\\\repos\\\\0.basic\\\\Task27.xlsx')"
   ]
  },
  {
   "cell_type": "code",
   "execution_count": 6,
   "id": "a501b7fb-299f-44c4-be3d-66ca3a65628a",
   "metadata": {},
   "outputs": [],
   "source": [
    "fc=['ALL', 'FCR', 'VSA', 'F2R', 'F1a', 'F2a', 'F3a', 'B1a', 'B2a', 'B3a', 'F1i', 'F2i', 'F3i', 'B1i', 'B2i', 'B3i', 'F1u', 'F2u', 'F3u', 'B1u', 'B2u', 'B3u']"
   ]
  },
  {
   "cell_type": "code",
   "execution_count": 7,
   "id": "2549e606-162d-4412-a62a-a4747e8ed8e9",
   "metadata": {},
   "outputs": [],
   "source": [
    "feat_dict={}\n",
    "for fn in range(5):\n",
    "    dicf={}\n",
    "    with open('C:\\\\Users\\\\surgi\\\\source\\\\repos\\\\0.basic\\\\features_r{}.txt'.format(str(fn+1)),'r') as f:\n",
    "        for ff in f.readlines():\n",
    "            dicf[ff.strip('\\n').split(':')[0]]=ff.strip('\\n').split(':')[-1].split('+')\n",
    "    feat_dict['r'+str(fn+1)]=dicf"
   ]
  },
  {
   "cell_type": "code",
   "execution_count": null,
   "id": "57041dbc-a913-4b33-89e1-248ca09a4630",
   "metadata": {},
   "outputs": [
    {
     "name": "stderr",
     "output_type": "stream",
     "text": [
      "  4%|▎         | 1/27 [25:02:02<650:52:59, 90122.27s/it]"
     ]
    }
   ],
   "source": [
    "for t in tqdm(task.sheet_names):\n",
    "    cdata=task.parse(sheet_name=t,index_col=0)\n",
    "    sd0=sor_data.loc[cdata.index.to_list()]\n",
    "    sc0=pd.concat([sor_cca,cdata],axis=1,join='inner')\n",
    "    writer1 = pd.ExcelWriter('F:\\\\backup_thesis\\\\data\\\\pca_model\\\\ML\\\\{}_outcomes.xlsx'.format(t))\n",
    "    for fn,fs in feat_dict.items():\n",
    "        sc_sd=pd.concat([sd0,sc0],axis=1)\n",
    "        sr0=sc_sd[fs[t]]\n",
    "        sr00=pd.concat([sr0,cdata],axis=1)\n",
    "        sr_train=sr00.loc[sr00['Training set']=='Yes']\n",
    "        sr_test=sr00.loc[sr00['Training set']=='No']\n",
    "        pmodel_n, pdval, aval=MLSS(data=sr_train,data1=sr_test,outpath='F:\\\\backup_thesis\\\\data\\\\pca_model\\\\ML',cols=fs[t],var=[t],model_name=t,prefix=fn)\n",
    "        pdval['model'] = [str.split(i, '_')[0] for i in pdval.index.to_list()]\n",
    "        pdval['state'] = ['_'.join(str.split(i, '_')[1:]) for i in pdval.index.to_list()]\n",
    "        pdval.sort_values(by=['state', 'Test_accuracy'], ascending=False, inplace=True)\n",
    "        pdval.to_excel(writer1, 'test_{}'.format(fn))\n",
    "        pmodel_n['mean_value'] = pmodel_n.mean(axis=1)\n",
    "        pmodel_n['std'] = pmodel_n.std(axis=1)\n",
    "        pmodel_n['cv'] = pmodel_n['std'] / pmodel_n['mean_value']\n",
    "        pmodel_n['parameter'] = ['_'.join(str.split(i, '_')[2:]) for i in pmodel_n.index.to_list()]\n",
    "        pmodel_n['model'] = [str.split(i, '_')[0] for i in pmodel_n.index.to_list()]\n",
    "        pmodel_n['state'] = ['_'.join(str.split(i, '_')[1:-1]) for i in pmodel_n.index.to_list()]\n",
    "        pmodel_n.sort_values(by=['state', 'parameter', 'mean_value'], ascending=False, inplace=True)\n",
    "        pmodel_n.to_excel(writer1, 'training_{}'.format(fn))\n",
    "        aval.to_excel(writer1, 'individual_pred&prob_{}'.format(fn))\n",
    "    for fn,fs in zip(['CCA']+fc,[sor_cca.columns.to_list()]+[[fd for fd in sor_cca.columns.to_list() if fd0 in fd.split('-')] for fd0 in fc]):\n",
    "        sc_train=sc0.loc[sc0['Training set']=='Yes']\n",
    "        sc_test=sc0.loc[sc0['Training set']=='No']\n",
    "        pmodel_n, pdval, aval=MLSS(data=sc_train,data1=sc_test,outpath='F:\\\\backup_thesis\\\\data\\\\pca_model\\\\ML',cols=fs,var=[t],model_name=t,prefix=fn)\n",
    "        pdval['model'] = [str.split(i, '_')[0] for i in pdval.index.to_list()]\n",
    "        pdval['state'] = ['_'.join(str.split(i, '_')[1:]) for i in pdval.index.to_list()]\n",
    "        pdval.sort_values(by=['state', 'Test_accuracy'], ascending=False, inplace=True)\n",
    "        pdval.to_excel(writer1, 'test_{}'.format(fn))\n",
    "        pmodel_n['mean_value'] = pmodel_n.mean(axis=1)\n",
    "        pmodel_n['std'] = pmodel_n.std(axis=1)\n",
    "        pmodel_n['cv'] = pmodel_n['std'] / pmodel_n['mean_value']\n",
    "        pmodel_n['parameter'] = ['_'.join(str.split(i, '_')[2:]) for i in pmodel_n.index.to_list()]\n",
    "        pmodel_n['model'] = [str.split(i, '_')[0] for i in pmodel_n.index.to_list()]\n",
    "        pmodel_n['state'] = ['_'.join(str.split(i, '_')[1:-1]) for i in pmodel_n.index.to_list()]\n",
    "        pmodel_n.sort_values(by=['state', 'parameter', 'mean_value'], ascending=False, inplace=True)\n",
    "        pmodel_n.to_excel(writer1, 'training_{}'.format(fn))\n",
    "        aval.to_excel(writer1, 'individual_pred&prob_{}'.format(fn))\n",
    "    for th in range(2, 10):\n",
    "        threshold = th / 10\n",
    "        for interval in range(10, 101, 10):\n",
    "            sd00=sd0[[col for col in allf if col.split('_')[-2]==str(threshold) and col.split('_')[-1]==str(interval)]]\n",
    "            sds=pd.concat([sd00,cdata],axis=1)\n",
    "            sd_train=sds.loc[sds['Training set']=='Yes']\n",
    "            sd_test=sds.loc[sds['Training set']=='No']\n",
    "            use_fs1=[f for f in allf if (f.split('_')[1]=='ALL' and f.split('_')[-2]==str(threshold) and f.split('_')[-1]==str(interval))]\n",
    "            use_fs2=[f for f in allf if (f.split('_')[1]!='ALL' and int(f.split('_')[2])<=3 and f.split('_')[-2]==str(threshold) and f.split('_')[-1]==str(interval))]\n",
    "            use_fs3=[f for f in allf if (int(f.split('_')[2])<=3 and f.split('_')[-2]==str(threshold) and f.split('_')[-1]==str(interval))]\n",
    "            use_fs4=[f for f in allf if (f.split('_')[-2]==str(threshold) and f.split('_')[-1]==str(interval))]\n",
    "            for fn,fs in zip(['Data'+str(xx) for xx in range(1,5)],[use_fs1,use_fs2,use_fs3,use_fs4]):\n",
    "                pmodel_n, pdval, aval=MLSS(data=sd_train,data1=sd_test,outpath='F:\\\\backup_thesis\\\\data\\\\pca_model\\\\ML',cols=fs,var=[t],model_name=t,prefix=fn+'_'+str(threshold)+'_'+str(interval))\n",
    "                pdval['model'] = [str.split(i, '_')[0] for i in pdval.index.to_list()]\n",
    "                pdval['state'] = ['_'.join(str.split(i, '_')[1:]) for i in pdval.index.to_list()]\n",
    "                pdval.sort_values(by=['state', 'Test_accuracy'], ascending=False, inplace=True)\n",
    "                pdval.to_excel(writer1, 'test_{}_{}_{}'.format(str(threshold),str(interval),fn))\n",
    "                pmodel_n['mean_value'] = pmodel_n.mean(axis=1)\n",
    "                pmodel_n['std'] = pmodel_n.std(axis=1)\n",
    "                pmodel_n['cv'] = pmodel_n['std'] / pmodel_n['mean_value']\n",
    "                pmodel_n['parameter'] = ['_'.join(str.split(i, '_')[2:]) for i in pmodel_n.index.to_list()]\n",
    "                pmodel_n['model'] = [str.split(i, '_')[0] for i in pmodel_n.index.to_list()]\n",
    "                pmodel_n['state'] = ['_'.join(str.split(i, '_')[1:-1]) for i in pmodel_n.index.to_list()]\n",
    "                pmodel_n.sort_values(by=['state', 'parameter', 'mean_value'], ascending=False, inplace=True)\n",
    "                pmodel_n.to_excel(writer1, 'training_{}_{}_{}'.format(str(threshold),str(interval),fn))\n",
    "                aval.to_excel(writer1, 'individual_pred&prob_{}_{}_{}'.format(str(threshold),str(interval),fn))\n",
    "    writer1._save()\n",
    "    time.sleep\n",
    "    "
   ]
  },
  {
   "cell_type": "code",
   "execution_count": null,
   "id": "245c41ac-013d-44a8-8dc7-dbe6f364486a",
   "metadata": {},
   "outputs": [],
   "source": []
  }
 ],
 "metadata": {
  "kernelspec": {
   "display_name": "Python 3 (ipykernel)",
   "language": "python",
   "name": "python3"
  },
  "language_info": {
   "codemirror_mode": {
    "name": "ipython",
    "version": 3
   },
   "file_extension": ".py",
   "mimetype": "text/x-python",
   "name": "python",
   "nbconvert_exporter": "python",
   "pygments_lexer": "ipython3",
   "version": "3.9.18"
  }
 },
 "nbformat": 4,
 "nbformat_minor": 5
}
