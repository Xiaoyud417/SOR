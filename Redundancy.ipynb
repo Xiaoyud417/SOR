{
 "cells": [
  {
   "cell_type": "code",
   "execution_count": 1,
   "id": "882f15d5-fd0a-42b6-9110-20f862b39ec6",
   "metadata": {},
   "outputs": [],
   "source": [
    "import os, shutil\n",
    "import numpy as np\n",
    "import pandas as pd\n",
    "import time\n",
    "from tqdm import tqdm\n",
    "import openpyxl\n",
    "from sor.omics_attri import *\n",
    "import rcca\n",
    "from itertools import combinations"
   ]
  },
  {
   "cell_type": "code",
   "execution_count": 4,
   "id": "2ec0f9ec-9254-4cf1-89da-a905572c83fc",
   "metadata": {},
   "outputs": [],
   "source": [
    "sor_data=pd.read_csv('C:\\\\Users\\\\surgi\\\\source\\\\repos\\\\Speech_Omics_data.txt',sep='\\t',index_col=0)"
   ]
  },
  {
   "cell_type": "code",
   "execution_count": 5,
   "id": "3ef4251f-d960-4a00-93a2-05a4d5c47442",
   "metadata": {},
   "outputs": [],
   "source": [
    "bpi=pd.read_csv('C:\\\\Users\\\\surgi\\\\source\\\\repos\\\\0.basic\\\\all_BP.txt',sep='\\t',index_col=0)"
   ]
  },
  {
   "cell_type": "code",
   "execution_count": 6,
   "id": "5ac95753-b3ef-493f-9314-764d3baba702",
   "metadata": {},
   "outputs": [],
   "source": [
    "oc_list=bpi.loc[bpi['OC_OPC']==1].index.to_list()"
   ]
  },
  {
   "cell_type": "code",
   "execution_count": null,
   "id": "9e791597-c3b9-4be6-8bdc-0e7b8855de48",
   "metadata": {},
   "outputs": [
    {
     "name": "stderr",
     "output_type": "stream",
     "text": [
      " 14%|█▍        | 1/7 [70:42:45<424:16:30, 254565.07s/it]"
     ]
    }
   ],
   "source": [
    "sor_oc=sor_data.loc[oc_list]\n",
    "bp_oc=bpi.loc[oc_list,['T_1','T_2','T_3','N_0','N_1','N_2','Stage_1','Stage_2','Stage_3']]\n",
    "for f in tqdm(fc[8:15]):\n",
    "    rfs,prfs=CCA_selection(data=sor_oc[[col for col in sor_oc.columns.to_list() if col.split('_')[1]==f]],\n",
    "                           bp=bp_oc,savepath='C:\\\\Users\\\\surgi\\\\source\\\\repos\\\\Redundancy',feat_dim=f)\n",
    "    with open('C:\\\\Users\\\\surgi\\\\source\\\\repos\\\\Redundancy\\\\{}_rfs_dim.txt'.format(f),'a+') as ff:\n",
    "        ff.write('\\n'.join(rfs))\n",
    "    prfs.to_csv('C:\\\\Users\\\\surgi\\\\source\\\\repos\\\\Redundancy\\\\{}_rfs_DIM.txt'.format(f),sep='\\t',encoding='utf_8_sig')"
   ]
  },
  {
   "cell_type": "code",
   "execution_count": null,
   "id": "24690d0f-6e33-4f7b-9f30-5898e78fe4d7",
   "metadata": {},
   "outputs": [],
   "source": []
  }
 ],
 "metadata": {
  "kernelspec": {
   "display_name": "Python 3 (ipykernel)",
   "language": "python",
   "name": "python3"
  },
  "language_info": {
   "codemirror_mode": {
    "name": "ipython",
    "version": 3
   },
   "file_extension": ".py",
   "mimetype": "text/x-python",
   "name": "python",
   "nbconvert_exporter": "python",
   "pygments_lexer": "ipython3",
   "version": "3.9.18"
  }
 },
 "nbformat": 4,
 "nbformat_minor": 5
}
