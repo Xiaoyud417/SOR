{
 "cells": [
  {
   "cell_type": "code",
   "execution_count": 2,
   "id": "f9c55311-8792-4fce-a44d-f7c25a7193c7",
   "metadata": {
    "scrolled": true
   },
   "outputs": [],
   "source": [
    "import os\n",
    "from sor.prognostic_cluster import *"
   ]
  },
  {
   "cell_type": "code",
   "execution_count": 3,
   "id": "d26e08b4-ab6e-4a35-9a6f-ea1c1022fecb",
   "metadata": {},
   "outputs": [],
   "source": [
    "with open('C:\\\\Users\\\\surgi\\\\source\\\\repos\\\\0.basic\\\\OFS.txt') as f:\n",
    "    ofs=[o.strip('\\n') for o in f.readlines()]"
   ]
  },
  {
   "cell_type": "code",
   "execution_count": 4,
   "id": "8efedff6-da6a-4125-ae8a-a0ca623e3f72",
   "metadata": {},
   "outputs": [],
   "source": [
    "lifepath='C:\\\\Users\\\\surgi\\\\source\\\\repos\\\\0.basic'"
   ]
  },
  {
   "cell_type": "code",
   "execution_count": 5,
   "id": "a8119e1d-1f41-46a8-ab18-983bcc15ade0",
   "metadata": {},
   "outputs": [],
   "source": [
    "bpi=pd.read_csv('C:\\\\Users\\\\surgi\\\\source\\\\repos\\\\0.basic\\\\all_BP.txt',sep='\\t',index_col=0)"
   ]
  },
  {
   "cell_type": "code",
   "execution_count": 6,
   "id": "22554f8a-3bc9-4466-bef1-fef55e456c6d",
   "metadata": {},
   "outputs": [],
   "source": [
    "oc_list=bpi.loc[bpi['OC_OPC']==1].index.to_list()"
   ]
  },
  {
   "cell_type": "code",
   "execution_count": 7,
   "id": "28f49c43-1f30-4c5b-98b5-67881b157547",
   "metadata": {},
   "outputs": [],
   "source": [
    "scc_list=bpi.loc[bpi['SCC']==1].index.to_list()"
   ]
  },
  {
   "cell_type": "code",
   "execution_count": 8,
   "id": "ac93cc8a-bb8b-4570-9be0-e18f88e76e2d",
   "metadata": {},
   "outputs": [],
   "source": [
    "sor_data=pd.read_csv('C:\\\\Users\\\\surgi\\\\source\\\\repos\\\\Speech_Omics_data.txt',sep='\\t',index_col=0)"
   ]
  },
  {
   "cell_type": "code",
   "execution_count": 9,
   "id": "2e4ba97b-3fce-4430-8b2f-07aed6e57b47",
   "metadata": {},
   "outputs": [],
   "source": [
    "sii=pd.read_csv('C:\\\\Users\\\\surgi\\\\source\\\\repos\\\\0.basic\\\\hnc_sii.txt',sep='\\t',index_col=0)"
   ]
  },
  {
   "cell_type": "code",
   "execution_count": 10,
   "id": "99987f2d-0e7c-4d4d-9182-4c2074b11d33",
   "metadata": {},
   "outputs": [],
   "source": [
    "phnc=pd.concat([sii,sor_data.loc[oc_list],bpi[['T','N','Stage']]],axis=1,join='inner')"
   ]
  },
  {
   "cell_type": "code",
   "execution_count": 11,
   "id": "8aa29063-f7df-4044-b8fe-97b83078c4cd",
   "metadata": {},
   "outputs": [],
   "source": [
    "pscc=pd.concat([sii,sor_data.loc[scc_list],bpi[['T','N','Stage']]],axis=1,join='inner')"
   ]
  },
  {
   "cell_type": "code",
   "execution_count": 12,
   "id": "973549f3-1994-41a6-911f-9d1e82093d04",
   "metadata": {},
   "outputs": [],
   "source": [
    "mani_results,pvalues=pam_cluster(phnc=phnc[ofs+sii.columns.to_list()+['T','N','Stage']],\n",
    "                                 pscc=pscc[ofs+sii.columns.to_list()+['T','N','Stage']],\n",
    "                                 savepath='F:\\\\backup_thesis\\\\data\\\\pca_model\\\\prog_analyses',\n",
    "                                 lifepath=lifepath,features_in=ofs,pic=False)"
   ]
  },
  {
   "cell_type": "code",
   "execution_count": 13,
   "id": "d10015c5-d7b3-4c24-bd04-53aa453b519f",
   "metadata": {},
   "outputs": [
    {
     "data": {
      "text/html": [
       "<div>\n",
       "<style scoped>\n",
       "    .dataframe tbody tr th:only-of-type {\n",
       "        vertical-align: middle;\n",
       "    }\n",
       "\n",
       "    .dataframe tbody tr th {\n",
       "        vertical-align: top;\n",
       "    }\n",
       "\n",
       "    .dataframe thead th {\n",
       "        text-align: right;\n",
       "    }\n",
       "</style>\n",
       "<table border=\"1\" class=\"dataframe\">\n",
       "  <thead>\n",
       "    <tr style=\"text-align: right;\">\n",
       "      <th></th>\n",
       "      <th>P_value</th>\n",
       "    </tr>\n",
       "  </thead>\n",
       "  <tbody>\n",
       "    <tr>\n",
       "      <th>4C_3D_ALL_TSNE24_D_W_in_HNC</th>\n",
       "      <td>0.017471</td>\n",
       "    </tr>\n",
       "    <tr>\n",
       "      <th>4C_3D_ALL_TSNE24_D_M_in_HNC</th>\n",
       "      <td>0.017715</td>\n",
       "    </tr>\n",
       "    <tr>\n",
       "      <th>3C_3D_ALL_TSNE13_D_W_in_HNC</th>\n",
       "      <td>0.018330</td>\n",
       "    </tr>\n",
       "    <tr>\n",
       "      <th>3C_3D_ALL_TSNE13_D_M_in_HNC</th>\n",
       "      <td>0.019309</td>\n",
       "    </tr>\n",
       "    <tr>\n",
       "      <th>3C_3D_ALL_TSNE_D_W_in_HNC</th>\n",
       "      <td>0.021018</td>\n",
       "    </tr>\n",
       "  </tbody>\n",
       "</table>\n",
       "</div>"
      ],
      "text/plain": [
       "                              P_value\n",
       "4C_3D_ALL_TSNE24_D_W_in_HNC  0.017471\n",
       "4C_3D_ALL_TSNE24_D_M_in_HNC  0.017715\n",
       "3C_3D_ALL_TSNE13_D_W_in_HNC  0.018330\n",
       "3C_3D_ALL_TSNE13_D_M_in_HNC  0.019309\n",
       "3C_3D_ALL_TSNE_D_W_in_HNC    0.021018"
      ]
     },
     "execution_count": 13,
     "metadata": {},
     "output_type": "execute_result"
    }
   ],
   "source": [
    "pvalues.head()"
   ]
  },
  {
   "cell_type": "code",
   "execution_count": 14,
   "id": "14a0a0c2-02ee-4642-bc56-0d59c47b4962",
   "metadata": {},
   "outputs": [],
   "source": [
    "mp_aft=survival_aft(phnc=phnc,pscc=pscc,path='F:\\\\backup_thesis\\\\data\\\\pca_model\\\\prog_analyses\\\\TSNE+MDS_outcome.xlsx',\n",
    "                    savepath='F:\\\\backup_thesis\\\\data\\\\pca_model\\\\prog_analyses\\\\MP',lifepath=lifepath)"
   ]
  },
  {
   "cell_type": "code",
   "execution_count": 15,
   "id": "357aa883-f775-4e86-af21-026fce63816a",
   "metadata": {},
   "outputs": [
    {
     "data": {
      "text/html": [
       "<div>\n",
       "<style scoped>\n",
       "    .dataframe tbody tr th:only-of-type {\n",
       "        vertical-align: middle;\n",
       "    }\n",
       "\n",
       "    .dataframe tbody tr th {\n",
       "        vertical-align: top;\n",
       "    }\n",
       "\n",
       "    .dataframe thead th {\n",
       "        text-align: right;\n",
       "    }\n",
       "</style>\n",
       "<table border=\"1\" class=\"dataframe\">\n",
       "  <thead>\n",
       "    <tr style=\"text-align: right;\">\n",
       "      <th></th>\n",
       "      <th>Distribution</th>\n",
       "      <th>Bi_stage_p</th>\n",
       "      <th>P_value</th>\n",
       "      <th>AIC_partial</th>\n",
       "      <th>C_index</th>\n",
       "      <th>Log_LH</th>\n",
       "      <th>P_min</th>\n",
       "    </tr>\n",
       "  </thead>\n",
       "  <tbody>\n",
       "    <tr>\n",
       "      <th>TSNE_WeibullAFT_multi_3C_3D_D_W_in_HNC</th>\n",
       "      <td>Weibull</td>\n",
       "      <td>0.023518</td>\n",
       "      <td>[0.014515948355339198, 0.044053769729556075]</td>\n",
       "      <td>646.405892</td>\n",
       "      <td>0.706692</td>\n",
       "      <td>-312.202946</td>\n",
       "      <td>0.014516</td>\n",
       "    </tr>\n",
       "    <tr>\n",
       "      <th>TSNE_WeibullAFT_multi_3C_3D_D_M_in_HNC</th>\n",
       "      <td>Weibull</td>\n",
       "      <td>0.023078</td>\n",
       "      <td>[0.014726729893464912, 0.04419445727068258]</td>\n",
       "      <td>514.458913</td>\n",
       "      <td>0.705563</td>\n",
       "      <td>-246.229456</td>\n",
       "      <td>0.014727</td>\n",
       "    </tr>\n",
       "    <tr>\n",
       "      <th>TSNE_LLAFT_multi_3C_3D_D_W_in_HNC</th>\n",
       "      <td>LL</td>\n",
       "      <td>0.012273</td>\n",
       "      <td>[0.017077580259027336, 0.050673593644443335]</td>\n",
       "      <td>643.403310</td>\n",
       "      <td>0.714142</td>\n",
       "      <td>-310.701655</td>\n",
       "      <td>0.017078</td>\n",
       "    </tr>\n",
       "    <tr>\n",
       "      <th>TSNE_LLAFT_multi_3C_3D_D_M_in_HNC</th>\n",
       "      <td>LL</td>\n",
       "      <td>0.011955</td>\n",
       "      <td>[0.01725034104073837, 0.05152918694139968]</td>\n",
       "      <td>511.500776</td>\n",
       "      <td>0.712839</td>\n",
       "      <td>-244.750388</td>\n",
       "      <td>0.017250</td>\n",
       "    </tr>\n",
       "    <tr>\n",
       "      <th>TSNE_LNAFT_multi_3C_3D_D_W_in_HNC</th>\n",
       "      <td>LN</td>\n",
       "      <td>0.004076</td>\n",
       "      <td>[0.02033645159951218, 0.08183182134795698]</td>\n",
       "      <td>641.067691</td>\n",
       "      <td>0.717438</td>\n",
       "      <td>-309.533846</td>\n",
       "      <td>0.020336</td>\n",
       "    </tr>\n",
       "  </tbody>\n",
       "</table>\n",
       "</div>"
      ],
      "text/plain": [
       "                                       Distribution  Bi_stage_p  \\\n",
       "TSNE_WeibullAFT_multi_3C_3D_D_W_in_HNC      Weibull    0.023518   \n",
       "TSNE_WeibullAFT_multi_3C_3D_D_M_in_HNC      Weibull    0.023078   \n",
       "TSNE_LLAFT_multi_3C_3D_D_W_in_HNC                LL    0.012273   \n",
       "TSNE_LLAFT_multi_3C_3D_D_M_in_HNC                LL    0.011955   \n",
       "TSNE_LNAFT_multi_3C_3D_D_W_in_HNC                LN    0.004076   \n",
       "\n",
       "                                                                             P_value  \\\n",
       "TSNE_WeibullAFT_multi_3C_3D_D_W_in_HNC  [0.014515948355339198, 0.044053769729556075]   \n",
       "TSNE_WeibullAFT_multi_3C_3D_D_M_in_HNC   [0.014726729893464912, 0.04419445727068258]   \n",
       "TSNE_LLAFT_multi_3C_3D_D_W_in_HNC       [0.017077580259027336, 0.050673593644443335]   \n",
       "TSNE_LLAFT_multi_3C_3D_D_M_in_HNC         [0.01725034104073837, 0.05152918694139968]   \n",
       "TSNE_LNAFT_multi_3C_3D_D_W_in_HNC         [0.02033645159951218, 0.08183182134795698]   \n",
       "\n",
       "                                        AIC_partial   C_index      Log_LH  \\\n",
       "TSNE_WeibullAFT_multi_3C_3D_D_W_in_HNC   646.405892  0.706692 -312.202946   \n",
       "TSNE_WeibullAFT_multi_3C_3D_D_M_in_HNC   514.458913  0.705563 -246.229456   \n",
       "TSNE_LLAFT_multi_3C_3D_D_W_in_HNC        643.403310  0.714142 -310.701655   \n",
       "TSNE_LLAFT_multi_3C_3D_D_M_in_HNC        511.500776  0.712839 -244.750388   \n",
       "TSNE_LNAFT_multi_3C_3D_D_W_in_HNC        641.067691  0.717438 -309.533846   \n",
       "\n",
       "                                           P_min  \n",
       "TSNE_WeibullAFT_multi_3C_3D_D_W_in_HNC  0.014516  \n",
       "TSNE_WeibullAFT_multi_3C_3D_D_M_in_HNC  0.014727  \n",
       "TSNE_LLAFT_multi_3C_3D_D_W_in_HNC       0.017078  \n",
       "TSNE_LLAFT_multi_3C_3D_D_M_in_HNC       0.017250  \n",
       "TSNE_LNAFT_multi_3C_3D_D_W_in_HNC       0.020336  "
      ]
     },
     "execution_count": 15,
     "metadata": {},
     "output_type": "execute_result"
    }
   ],
   "source": [
    "mp_aft.head()"
   ]
  }
 ],
 "metadata": {
  "kernelspec": {
   "display_name": "Python 3 (ipykernel)",
   "language": "python",
   "name": "python3"
  },
  "language_info": {
   "codemirror_mode": {
    "name": "ipython",
    "version": 3
   },
   "file_extension": ".py",
   "mimetype": "text/x-python",
   "name": "python",
   "nbconvert_exporter": "python",
   "pygments_lexer": "ipython3",
   "version": "3.9.18"
  }
 },
 "nbformat": 4,
 "nbformat_minor": 5
}
