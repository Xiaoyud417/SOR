{
 "cells": [
  {
   "cell_type": "code",
   "execution_count": 10,
   "id": "51c32fd7-4f62-4ee3-a8ec-c67dad8d3920",
   "metadata": {},
   "outputs": [],
   "source": [
    "import os, shutil\n",
    "import numpy as np\n",
    "import pandas as pd\n",
    "import time\n",
    "from tqdm import tqdm\n",
    "import openpyxl\n",
    "from sor.omics_attri import *\n",
    "import rcca\n",
    "from itertools import combinations"
   ]
  },
  {
   "cell_type": "code",
   "execution_count": 4,
   "id": "d457762c-9284-47fe-bcb2-d4f8e1d8d15f",
   "metadata": {},
   "outputs": [],
   "source": [
    "sor_data=pd.read_csv('C:\\\\Users\\\\surgi\\\\source\\\\repos\\\\Speech_Omics_data.txt',sep='\\t',index_col=0)"
   ]
  },
  {
   "cell_type": "code",
   "execution_count": 6,
   "id": "3fe50f50-c481-4688-8681-0633b223a270",
   "metadata": {},
   "outputs": [],
   "source": [
    "ppe=sor_data.corr()"
   ]
  },
  {
   "cell_type": "code",
   "execution_count": 8,
   "id": "38bcb90d-abb1-481d-9280-a817d20f41c9",
   "metadata": {},
   "outputs": [],
   "source": [
    "ppe.to_csv('F:\\\\backup_thesis\\\\data\\\\pca_model\\\\sor_pearson.txt',sep='\\t',encoding='utf_8_sig')"
   ]
  },
  {
   "cell_type": "code",
   "execution_count": 12,
   "id": "3d6a8a24-b83b-4e5a-a989-e9d4b9d5ddd9",
   "metadata": {},
   "outputs": [
    {
     "name": "stderr",
     "output_type": "stream",
     "text": [
      "100%|██████████| 22/22 [26:23<00:00, 71.97s/it]  \n"
     ]
    }
   ],
   "source": [
    "for f in tqdm(fc):\n",
    "    make_wg(data=ppe.loc[[pc for pc in ppe.index.to_list() if pc.split('_')[1]==f],\n",
    "            [pc for pc in ppe.columns.to_list() if pc.split('_')[1]==f]],\n",
    "            feat_dim=f,savepath='F:\\\\backup_thesis\\\\data\\\\pca_model\\\\wg')\n",
    "    time.sleep"
   ]
  },
  {
   "cell_type": "code",
   "execution_count": null,
   "id": "b9d66664-08f2-4c48-86f1-56520fc90cab",
   "metadata": {},
   "outputs": [],
   "source": []
  }
 ],
 "metadata": {
  "kernelspec": {
   "display_name": "Python 3 (ipykernel)",
   "language": "python",
   "name": "python3"
  },
  "language_info": {
   "codemirror_mode": {
    "name": "ipython",
    "version": 3
   },
   "file_extension": ".py",
   "mimetype": "text/x-python",
   "name": "python",
   "nbconvert_exporter": "python",
   "pygments_lexer": "ipython3",
   "version": "3.9.18"
  }
 },
 "nbformat": 4,
 "nbformat_minor": 5
}
