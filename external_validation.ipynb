{
 "cells": [
  {
   "cell_type": "code",
   "execution_count": 2,
   "id": "45f7b43d-dc05-4544-bba2-015e5c3d4ed2",
   "metadata": {},
   "outputs": [],
   "source": [
    "from sor.ex_val import *"
   ]
  },
  {
   "cell_type": "markdown",
   "id": "32fdd208-8d9f-4272-9ccd-9d6052b74d2e",
   "metadata": {},
   "source": [
    "You should firstly prepare the Formant table files that are generated through praat scripts, and put them into your own 'ev_path'. We have uploaded a portion of Formant table files from our external validation group. you can download them at https://pan.baidu.com/s/1v6hJUMUwB1O6CFSs0AZnQw?pwd=c5rj"
   ]
  },
  {
   "cell_type": "code",
   "execution_count": 3,
   "id": "8de3987a-4b31-4f10-a2a5-2ae2f4f613cb",
   "metadata": {},
   "outputs": [],
   "source": [
    "ev_path='F:\\\\backup_thesis\\\\data\\\\EVD\\\\1.FormantTable'"
   ]
  },
  {
   "cell_type": "code",
   "execution_count": 4,
   "id": "a2c55266-0b51-4318-802c-b323f7696ec8",
   "metadata": {},
   "outputs": [],
   "source": [
    "ev_case=list(set([fn[4:21] for fn in os.listdir(ev_path)]))"
   ]
  },
  {
   "cell_type": "markdown",
   "id": "16c2d61b-59a3-4693-841a-1e095bb19b36",
   "metadata": {},
   "source": [
    "you must clearly state the directory where you stored all SDR data and PCA models that were generated in the process of 'speech omics representation'."
   ]
  },
  {
   "cell_type": "code",
   "execution_count": 5,
   "id": "61391675-02c7-400b-8ccc-00b74be926b6",
   "metadata": {},
   "outputs": [],
   "source": [
    "pcapath='C:\\\\Users\\\\surgi\\\\source\\\\repos\\\\5.PCAmodels'"
   ]
  },
  {
   "cell_type": "code",
   "execution_count": 6,
   "id": "bc2d3edd-9672-47fd-b66b-c6bbfa9c8e7d",
   "metadata": {},
   "outputs": [],
   "source": [
    "sdrpath='C:\\\\Users\\\\surgi\\\\source\\\\repos\\\\4.SDRdata'"
   ]
  },
  {
   "cell_type": "code",
   "execution_count": 7,
   "id": "b2a9ffd2-e1e1-4786-9eac-8ffb3be475dc",
   "metadata": {},
   "outputs": [],
   "source": [
    "pdr=pd.read_excel('C:\\\\Users\\\\surgi\\\\source\\\\repos\\\\0.basic\\\\pdr.xlsx',index_col=0)"
   ]
  },
  {
   "cell_type": "code",
   "execution_count": 8,
   "id": "a2e2bf7f-ac37-4ff6-b434-1da19887ed4a",
   "metadata": {},
   "outputs": [],
   "source": [
    "ev_feature=sor_fit(fpath=ev_path,outpath='\\\\'.join(ev_path.split('\\\\')[:-1])+'\\\\6.OmicsData',\n",
    "                  ev_case=ev_case,pcapath=pcapath,sdrpath=sdrpath,pdr=pdr)"
   ]
  },
  {
   "cell_type": "markdown",
   "id": "2c12e326-6fb1-4507-b64f-e296688b3da3",
   "metadata": {},
   "source": [
    "The file named 'EV_truth.xlsx' contains true labels for patients in the external validation group."
   ]
  },
  {
   "cell_type": "code",
   "execution_count": 16,
   "id": "a76ef475-9ab0-4385-9984-f9d95955590b",
   "metadata": {},
   "outputs": [],
   "source": [
    "ev_ground=pd.read_excel('C:\\\\Users\\\\surgi\\\\source\\\\repos\\\\0.basic\\\\EV_truth.xlsx',index_col=0)"
   ]
  },
  {
   "cell_type": "code",
   "execution_count": 40,
   "id": "8d21f06c-966e-48bb-85ba-2604559a8880",
   "metadata": {},
   "outputs": [],
   "source": [
    "ev_table=pd.DataFrame(index=ev_ground.loc[~ev_ground['OC_OPC'].isna()].index.to_list())"
   ]
  },
  {
   "cell_type": "markdown",
   "id": "4a614e72-3b4a-49f1-be1c-7860028ea0e3",
   "metadata": {},
   "source": [
    "Before execution of this line, you must make sure the models are prepared and stored in your 'model_path'. We have uploaded our models at https://pan.baidu.com/s/1ZO40R9d6jnXeBZNzxGYnIw?pwd=b4a9"
   ]
  },
  {
   "cell_type": "code",
   "execution_count": 42,
   "id": "c996e51d-df19-461a-aba6-a56a44336796",
   "metadata": {
    "scrolled": true
   },
   "outputs": [],
   "source": [
    "ev_pred,ev_prob=ev_fit(model_path='E:\\\\外部验证\\\\ev_models',task='OC_OPC',\n",
    "                       ev_data=ev_feature.loc[ev_ground.loc[~ev_ground['OC_OPC'].isna()].index.to_list()])"
   ]
  },
  {
   "cell_type": "code",
   "execution_count": 48,
   "id": "88bee85d-8dd2-4470-928b-2187fa99c256",
   "metadata": {},
   "outputs": [],
   "source": [
    "ev_table['Pred++OC_OPC']=ev_pred\n",
    "ev_table['Prob_0']=ev_prob[:,0]\n",
    "ev_table['Prob_1']=ev_prob[:,1]"
   ]
  },
  {
   "cell_type": "code",
   "execution_count": 49,
   "id": "c176a551-9b05-42f7-a56e-d0f4337ec45b",
   "metadata": {},
   "outputs": [],
   "source": [
    "pev=pd.concat([ev_ground,ev_table],axis=1,join='inner')"
   ]
  },
  {
   "cell_type": "code",
   "execution_count": 50,
   "id": "0b94680c-4aae-4f4e-8ea4-858356395079",
   "metadata": {},
   "outputs": [
    {
     "data": {
      "text/html": [
       "<div>\n",
       "<style scoped>\n",
       "    .dataframe tbody tr th:only-of-type {\n",
       "        vertical-align: middle;\n",
       "    }\n",
       "\n",
       "    .dataframe tbody tr th {\n",
       "        vertical-align: top;\n",
       "    }\n",
       "\n",
       "    .dataframe thead th {\n",
       "        text-align: right;\n",
       "    }\n",
       "</style>\n",
       "<table border=\"1\" class=\"dataframe\">\n",
       "  <thead>\n",
       "    <tr style=\"text-align: right;\">\n",
       "      <th></th>\n",
       "      <th>Gender_no</th>\n",
       "      <th>Age</th>\n",
       "      <th>SCC</th>\n",
       "      <th>TFC</th>\n",
       "      <th>T</th>\n",
       "      <th>N</th>\n",
       "      <th>Stage</th>\n",
       "      <th>OC_OPC</th>\n",
       "      <th>Type</th>\n",
       "      <th>Malignancy</th>\n",
       "      <th>...</th>\n",
       "      <th>Ttfc_3</th>\n",
       "      <th>Ntfc_0</th>\n",
       "      <th>Ntfc_1</th>\n",
       "      <th>Ntfc_2</th>\n",
       "      <th>Stagetfc_1</th>\n",
       "      <th>Stagetfc_2</th>\n",
       "      <th>Stagetfc_3</th>\n",
       "      <th>Pred++OC_OPC</th>\n",
       "      <th>Prob_0</th>\n",
       "      <th>Prob_1</th>\n",
       "    </tr>\n",
       "  </thead>\n",
       "  <tbody>\n",
       "    <tr>\n",
       "      <th>SEDru0710000000X1</th>\n",
       "      <td>0</td>\n",
       "      <td>71</td>\n",
       "      <td>0.0</td>\n",
       "      <td>1.0</td>\n",
       "      <td>0.0</td>\n",
       "      <td>0.0</td>\n",
       "      <td>0.0</td>\n",
       "      <td>0</td>\n",
       "      <td>1</td>\n",
       "      <td>0.0</td>\n",
       "      <td>...</td>\n",
       "      <td>0.0</td>\n",
       "      <td>0.0</td>\n",
       "      <td>0.0</td>\n",
       "      <td>0.0</td>\n",
       "      <td>0.0</td>\n",
       "      <td>0.0</td>\n",
       "      <td>0.0</td>\n",
       "      <td>1</td>\n",
       "      <td>0.0</td>\n",
       "      <td>1.0</td>\n",
       "    </tr>\n",
       "    <tr>\n",
       "      <th>gjqBI0450000000X1</th>\n",
       "      <td>0</td>\n",
       "      <td>45</td>\n",
       "      <td>1.0</td>\n",
       "      <td>1.0</td>\n",
       "      <td>1.0</td>\n",
       "      <td>0.0</td>\n",
       "      <td>1.0</td>\n",
       "      <td>1</td>\n",
       "      <td>1</td>\n",
       "      <td>1.0</td>\n",
       "      <td>...</td>\n",
       "      <td>0.0</td>\n",
       "      <td>0.0</td>\n",
       "      <td>0.0</td>\n",
       "      <td>0.0</td>\n",
       "      <td>0.0</td>\n",
       "      <td>0.0</td>\n",
       "      <td>0.0</td>\n",
       "      <td>0</td>\n",
       "      <td>0.5</td>\n",
       "      <td>0.5</td>\n",
       "    </tr>\n",
       "    <tr>\n",
       "      <th>qwOCj0790100000X1</th>\n",
       "      <td>1</td>\n",
       "      <td>79</td>\n",
       "      <td>1.0</td>\n",
       "      <td>1.0</td>\n",
       "      <td>1.0</td>\n",
       "      <td>0.0</td>\n",
       "      <td>1.0</td>\n",
       "      <td>1</td>\n",
       "      <td>1</td>\n",
       "      <td>1.0</td>\n",
       "      <td>...</td>\n",
       "      <td>0.0</td>\n",
       "      <td>0.0</td>\n",
       "      <td>0.0</td>\n",
       "      <td>0.0</td>\n",
       "      <td>0.0</td>\n",
       "      <td>0.0</td>\n",
       "      <td>0.0</td>\n",
       "      <td>1</td>\n",
       "      <td>0.1</td>\n",
       "      <td>0.9</td>\n",
       "    </tr>\n",
       "    <tr>\n",
       "      <th>mRKIU0780000000X1</th>\n",
       "      <td>0</td>\n",
       "      <td>78</td>\n",
       "      <td>1.0</td>\n",
       "      <td>1.0</td>\n",
       "      <td>1.0</td>\n",
       "      <td>0.0</td>\n",
       "      <td>1.0</td>\n",
       "      <td>1</td>\n",
       "      <td>1</td>\n",
       "      <td>1.0</td>\n",
       "      <td>...</td>\n",
       "      <td>0.0</td>\n",
       "      <td>0.0</td>\n",
       "      <td>0.0</td>\n",
       "      <td>0.0</td>\n",
       "      <td>0.0</td>\n",
       "      <td>0.0</td>\n",
       "      <td>0.0</td>\n",
       "      <td>1</td>\n",
       "      <td>0.3</td>\n",
       "      <td>0.7</td>\n",
       "    </tr>\n",
       "    <tr>\n",
       "      <th>emyXx0500000000X1</th>\n",
       "      <td>1</td>\n",
       "      <td>50</td>\n",
       "      <td>1.0</td>\n",
       "      <td>1.0</td>\n",
       "      <td>1.0</td>\n",
       "      <td>0.0</td>\n",
       "      <td>1.0</td>\n",
       "      <td>1</td>\n",
       "      <td>1</td>\n",
       "      <td>1.0</td>\n",
       "      <td>...</td>\n",
       "      <td>0.0</td>\n",
       "      <td>0.0</td>\n",
       "      <td>0.0</td>\n",
       "      <td>0.0</td>\n",
       "      <td>0.0</td>\n",
       "      <td>0.0</td>\n",
       "      <td>0.0</td>\n",
       "      <td>1</td>\n",
       "      <td>0.3</td>\n",
       "      <td>0.7</td>\n",
       "    </tr>\n",
       "  </tbody>\n",
       "</table>\n",
       "<p>5 rows × 36 columns</p>\n",
       "</div>"
      ],
      "text/plain": [
       "                   Gender_no  Age  SCC  TFC    T    N  Stage  OC_OPC  Type  \\\n",
       "SEDru0710000000X1          0   71  0.0  1.0  0.0  0.0    0.0       0     1   \n",
       "gjqBI0450000000X1          0   45  1.0  1.0  1.0  0.0    1.0       1     1   \n",
       "qwOCj0790100000X1          1   79  1.0  1.0  1.0  0.0    1.0       1     1   \n",
       "mRKIU0780000000X1          0   78  1.0  1.0  1.0  0.0    1.0       1     1   \n",
       "emyXx0500000000X1          1   50  1.0  1.0  1.0  0.0    1.0       1     1   \n",
       "\n",
       "                   Malignancy  ...  Ttfc_3  Ntfc_0  Ntfc_1  Ntfc_2  \\\n",
       "SEDru0710000000X1         0.0  ...     0.0     0.0     0.0     0.0   \n",
       "gjqBI0450000000X1         1.0  ...     0.0     0.0     0.0     0.0   \n",
       "qwOCj0790100000X1         1.0  ...     0.0     0.0     0.0     0.0   \n",
       "mRKIU0780000000X1         1.0  ...     0.0     0.0     0.0     0.0   \n",
       "emyXx0500000000X1         1.0  ...     0.0     0.0     0.0     0.0   \n",
       "\n",
       "                   Stagetfc_1  Stagetfc_2  Stagetfc_3  Pred++OC_OPC  Prob_0  \\\n",
       "SEDru0710000000X1         0.0         0.0         0.0             1     0.0   \n",
       "gjqBI0450000000X1         0.0         0.0         0.0             0     0.5   \n",
       "qwOCj0790100000X1         0.0         0.0         0.0             1     0.1   \n",
       "mRKIU0780000000X1         0.0         0.0         0.0             1     0.3   \n",
       "emyXx0500000000X1         0.0         0.0         0.0             1     0.3   \n",
       "\n",
       "                   Prob_1  \n",
       "SEDru0710000000X1     1.0  \n",
       "gjqBI0450000000X1     0.5  \n",
       "qwOCj0790100000X1     0.9  \n",
       "mRKIU0780000000X1     0.7  \n",
       "emyXx0500000000X1     0.7  \n",
       "\n",
       "[5 rows x 36 columns]"
      ]
     },
     "execution_count": 50,
     "metadata": {},
     "output_type": "execute_result"
    }
   ],
   "source": [
    "pev.head()"
   ]
  },
  {
   "cell_type": "code",
   "execution_count": 59,
   "id": "70f41834-e6af-4af4-9109-0765eef25fa7",
   "metadata": {},
   "outputs": [],
   "source": [
    "ev_accuracy=pev.loc[pev['OC_OPC']==pev['Pred++OC_OPC']].shape[0]/pev.shape[0]"
   ]
  },
  {
   "cell_type": "code",
   "execution_count": 61,
   "id": "7ffd872c-f530-4590-90e4-1d502045e4f8",
   "metadata": {},
   "outputs": [
    {
     "name": "stdout",
     "output_type": "stream",
     "text": [
      "0.7572815533980582\n"
     ]
    }
   ],
   "source": [
    "print(ev_accuracy)"
   ]
  },
  {
   "cell_type": "code",
   "execution_count": null,
   "id": "39dda6b5-6275-4eeb-b07d-dccda39cd9a3",
   "metadata": {},
   "outputs": [],
   "source": []
  }
 ],
 "metadata": {
  "kernelspec": {
   "display_name": "Python 3 (ipykernel)",
   "language": "python",
   "name": "python3"
  },
  "language_info": {
   "codemirror_mode": {
    "name": "ipython",
    "version": 3
   },
   "file_extension": ".py",
   "mimetype": "text/x-python",
   "name": "python",
   "nbconvert_exporter": "python",
   "pygments_lexer": "ipython3",
   "version": "3.9.18"
  }
 },
 "nbformat": 4,
 "nbformat_minor": 5
}
