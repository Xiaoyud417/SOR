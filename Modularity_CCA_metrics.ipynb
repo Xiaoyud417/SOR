{
 "cells": [
  {
   "cell_type": "code",
   "execution_count": 2,
   "id": "499dc103-0461-486e-86a7-1e267fe735df",
   "metadata": {},
   "outputs": [],
   "source": [
    "import os, shutil\n",
    "import numpy as np\n",
    "import pandas as pd\n",
    "import time\n",
    "from tqdm import tqdm\n",
    "import openpyxl\n",
    "from sor.omics_attri import *\n",
    "import rcca\n",
    "from itertools import combinations"
   ]
  },
  {
   "cell_type": "code",
   "execution_count": 4,
   "id": "64e72853-1beb-4709-a4c8-e7c30d835997",
   "metadata": {},
   "outputs": [],
   "source": [
    "sor_data=pd.read_csv('C:\\\\Users\\\\surgi\\\\source\\\\repos\\\\Speech_Omics_data.txt',sep='\\t',index_col=0)"
   ]
  },
  {
   "cell_type": "code",
   "execution_count": 6,
   "id": "4aceb128-3874-47ef-9ac6-64ddbc3b959f",
   "metadata": {},
   "outputs": [],
   "source": [
    "case=sor_data.index.to_list()\n",
    "pcca=pd.DataFrame()"
   ]
  },
  {
   "cell_type": "code",
   "execution_count": 8,
   "id": "7769429a-6e1c-4cbe-8650-2c903f56acab",
   "metadata": {},
   "outputs": [],
   "source": [
    "cmo=CCA_modularity(fc=fc,data=sor_data)\n",
    "md=cmo.min_pc()"
   ]
  },
  {
   "cell_type": "code",
   "execution_count": 10,
   "id": "1bc3b493-e22c-48f1-993a-8c8fec17a9c7",
   "metadata": {},
   "outputs": [],
   "source": [
    "from warnings import filterwarnings\n",
    "filterwarnings('ignore')"
   ]
  },
  {
   "cell_type": "code",
   "execution_count": 14,
   "id": "1e5429dd-df9a-410f-afe9-99c62f9b8b69",
   "metadata": {},
   "outputs": [
    {
     "name": "stderr",
     "output_type": "stream",
     "text": [
      "100%|██████████| 231/231 [24:46<00:00,  6.44s/it] \n"
     ]
    }
   ],
   "source": [
    "for (f1, f2) in tqdm(list(combinations(fc, 2))):\n",
    "    for name in case:\n",
    "        cca_coe = cmo.CCA_m(min_dic=md, name=name, f1=f1, f2=f2)\n",
    "        pcca.loc[name, '-'.join([f1, f2])] = cca_coe\n",
    "    time.sleep"
   ]
  },
  {
   "cell_type": "code",
   "execution_count": 16,
   "id": "5cf872b3-535e-4041-9f39-f81c637dc5f4",
   "metadata": {},
   "outputs": [],
   "source": [
    "pcca.to_csv('C:\\\\Users\\\\surgi\\\\source\\\\repos\\\\Speech_Omics_Modularity.txt',sep='\\t',encoding='utf_8_sig')"
   ]
  }
 ],
 "metadata": {
  "kernelspec": {
   "display_name": "Python 3 (ipykernel)",
   "language": "python",
   "name": "python3"
  },
  "language_info": {
   "codemirror_mode": {
    "name": "ipython",
    "version": 3
   },
   "file_extension": ".py",
   "mimetype": "text/x-python",
   "name": "python",
   "nbconvert_exporter": "python",
   "pygments_lexer": "ipython3",
   "version": "3.9.18"
  }
 },
 "nbformat": 4,
 "nbformat_minor": 5
}
